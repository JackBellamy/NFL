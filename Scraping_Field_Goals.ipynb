{
  "cells": [
    {
      "cell_type": "code",
      "execution_count": 1,
      "metadata": {
        "id": "FkmgBpgkaOgy"
      },
      "outputs": [],
      "source": [
        "from __future__ import print_function\n",
        "from bs4 import BeautifulSoup\n",
        "import requests"
      ]
    },
    {
      "cell_type": "code",
      "source": [
        "headers = {\n",
        "    \"User-Agent\": \"Mozilla/5.0 (Windows NT 10.0; Win64; x64) AppleWebKit/537.36 (KHTML, like Gecko) Chrome/71.0.3578.98 Safari/537.36\"\n",
        "}\n",
        " \n",
        "# from 2018 season\n",
        "url = 'https://www.footballdb.com/statistics/nfl/player-stats/kicking/2018/regular-season?sort=kickpts&limit=100'\n",
        "req = requests.get(url, headers=headers)\n",
        "soup = BeautifulSoup(req.text, 'html.parser')\n",
        "\n",
        "print(soup)"
      ],
      "metadata": {
        "id": "Fg8a-Rb5h8sf"
      },
      "execution_count": null,
      "outputs": []
    },
    {
      "cell_type": "code",
      "source": [
        "# content\n",
        "content = soup.find(id='leftcol')\n",
        "# headers\n",
        "headers = content.find_all('th')\n",
        "# printing\n",
        "for head in headers:\n",
        "  print(head.text)"
      ],
      "metadata": {
        "id": "5L_oqOFqbqRF"
      },
      "execution_count": null,
      "outputs": []
    },
    {
      "cell_type": "code",
      "source": [
        "# stats\n",
        "table = content.find_all('td')\n",
        "#printing\n",
        "for element in table:\n",
        "  print(element.text)"
      ],
      "metadata": {
        "id": "rVB4pNRUkxJD"
      },
      "execution_count": null,
      "outputs": []
    }
  ],
  "metadata": {
    "kernelspec": {
      "display_name": "Python 3",
      "language": "python",
      "name": "python3"
    },
    "language_info": {
      "codemirror_mode": {
        "name": "ipython",
        "version": 3
      },
      "file_extension": ".py",
      "mimetype": "text/x-python",
      "name": "python",
      "nbconvert_exporter": "python",
      "pygments_lexer": "ipython3",
      "version": "3.8.8"
    },
    "colab": {
      "provenance": []
    }
  },
  "nbformat": 4,
  "nbformat_minor": 0
}