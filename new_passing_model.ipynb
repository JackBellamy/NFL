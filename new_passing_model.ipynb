{
  "nbformat": 4,
  "nbformat_minor": 0,
  "metadata": {
    "colab": {
      "provenance": []
    },
    "kernelspec": {
      "name": "python3",
      "display_name": "Python 3"
    },
    "language_info": {
      "name": "python"
    }
  },
  "cells": [
    {
      "cell_type": "code",
      "source": [
        "# imports\n",
        "from IPython.display import clear_output\n",
        "from PIL import Image\n",
        "import os\n",
        "import json\n",
        "# clear\n",
        "clear_output(wait=True)\n",
        "# installing kaggle\n",
        "!pip install -q kaggle\n",
        "# user and key info\n",
        "info = {\"username\":\"jackbellamy\",\"key\":\"3442898ba5e904ac3a48eb5b59398805\"}\n",
        "# opening file\n",
        "json_object = json.dumps(info, indent=4)\n",
        "with open(\"kaggle.json\", \"w\") as outfile:\n",
        "    outfile.write(json_object)\n",
        "!mkdir ~/.kaggle\n",
        "!cp kaggle.json ~/.kaggle/\n",
        "!chmod 600 ~/.kaggle/kaggle.json\n",
        "# copying data to content file of kaggle which can be found on the left hand side of the screen\n",
        "if not (os.path.exists(\"/content/nfl-big-data-bowl-2023\")):\n",
        "  !kaggle competitions download -c nfl-big-data-bowl-2023\n",
        "  !mkdir nfl-big-data-bowl-2023\n",
        "  !unzip nfl-big-data-bowl-2023.zip -d nfl-big-data-bowl-2023"
      ],
      "metadata": {
        "colab": {
          "base_uri": "https://localhost:8080/"
        },
        "id": "v2ZBuYxvJAlW",
        "outputId": "1f3efc06-2857-495d-8b86-29f25bf61a78"
      },
      "execution_count": 1,
      "outputs": [
        {
          "output_type": "stream",
          "name": "stdout",
          "text": [
            "mkdir: cannot create directory ‘/root/.kaggle’: File exists\n"
          ]
        }
      ]
    },
    {
      "cell_type": "code",
      "execution_count": 2,
      "metadata": {
        "id": "FUL9uPa1I7Jt"
      },
      "outputs": [],
      "source": [
        "#import the libraries\n",
        "import matplotlib.pyplot as plt\n",
        "import numpy as np\n",
        "import pandas as pd\n",
        "from sklearn.preprocessing import MinMaxScaler\n",
        "from sklearn.model_selection import train_test_split\n",
        "from sklearn.tree import DecisionTreeClassifier\n",
        "from sklearn.metrics import accuracy_score, mean_absolute_error\n",
        "from sklearn.impute import SimpleImputer"
      ]
    },
    {
      "cell_type": "code",
      "source": [
        "#read csv files\n",
        "dfPlays = pd.read_csv('/content//nfl-big-data-bowl-2023/plays.csv')\n",
        "dfPlayer = pd.read_csv('/content/nfl-big-data-bowl-2023/players.csv')\n",
        "dfWeek = pd.read_csv('/content/nfl-big-data-bowl-2023/week1.csv')"
      ],
      "metadata": {
        "id": "Qd_YWvHSJCrP"
      },
      "execution_count": 3,
      "outputs": []
    },
    {
      "cell_type": "code",
      "source": [
        "#function to convert gameClock time\n",
        "def convertTimeToNumerical(t):\n",
        "    t = t.split(\":\")\n",
        "    if len(t) == 2:\n",
        "        return int(t[0]) * 60 + int(t[1])\n",
        "    return int(t[0]) * 3600 + int(t[1]) * 60 + int(t[2])\n",
        "#function to convert players height\n",
        "def heightInches(h):\n",
        "    temp = list(map(int, h.split('-')))\n",
        "    return temp[0]*12 + temp[1]"
      ],
      "metadata": {
        "id": "1oTzGrscKLyH"
      },
      "execution_count": 4,
      "outputs": []
    },
    {
      "cell_type": "code",
      "source": [
        "#converting values\n",
        "dfPlays = pd.merge(dfWeek, dfPlays, on=['playId'])\n",
        "dfPlays['gameClock_1'] = dfPlays['gameClock'].apply(convertTimeToNumerical)\n",
        "\n",
        "def convertTimeToNumerical2(t):\n",
        "    t = t.split(\":\")\n",
        "    if len(t) == 2:\n",
        "        return int(t[0])\n",
        "    return int(t[0])\n",
        "\n",
        "dfPlays['gameClock_new'] = dfPlays['gameClock'].apply(convertTimeToNumerical2)\n",
        "\n",
        "dfPlays['height'] = dfPlayer['height'].apply(heightInches)\n",
        "dfPlays = dfPlays.fillna(method='ffill')"
      ],
      "metadata": {
        "id": "PsFThgfHK5l4"
      },
      "execution_count": 5,
      "outputs": []
    },
    {
      "cell_type": "code",
      "source": [
        "# Selecting train and test data\n",
        "xInput = dfPlays[['defendersInBox','quarter','yardsToGo','gameClock_new']]#,'gameClock']]#,'height','s']]\n",
        "I_data = plays.loc[plays['passResult']==\"I\"]\n",
        "C_data = plays.loc[plays['passResult']==\"C\"]\n",
        "IN_data = plays.loc[plays['passResult']==\"IN\"]\n",
        "S_data = plays.loc[plays['passResult']==\"S\"]\n",
        "\n",
        "all_data = pd.concat([I_data, C_data, IN_data, S_data], axis=0)\n",
        "\n",
        "labels = np.array([0]*len(I_data)+[1]*len(C_data)+[2]*len(IN_data)+[3]*len(S_data))\n",
        "\n",
        "xInput = all_data[['quarter','down','yardsToGo','absoluteYardlineNumber','gameClock_new']]\n",
        "\n",
        "yInput = labels\n",
        "#yInput.dropna()\n",
        "xInput.head()"
      ],
      "metadata": {
        "colab": {
          "base_uri": "https://localhost:8080/",
          "height": 206
        },
        "id": "4Mco3V0AJZLp",
        "outputId": "c6d4ac7b-f1d6-4060-876b-b3939c22b863"
      },
      "execution_count": 54,
      "outputs": [
        {
          "output_type": "execute_result",
          "data": {
            "text/plain": [
              "    quarter  down  yardsToGo  absoluteYardlineNumber  gameClock_new\n",
              "0         1     3          2                    43.0             13\n",
              "3         1     3          4                    41.0             14\n",
              "6         1     3          2                    43.0             13\n",
              "9         1     3          4                    41.0             14\n",
              "12        1     3          2                    43.0             13"
            ],
            "text/html": [
              "\n",
              "  <div id=\"df-ffd4fede-5211-4306-acb2-ba9d2f88c3df\">\n",
              "    <div class=\"colab-df-container\">\n",
              "      <div>\n",
              "<style scoped>\n",
              "    .dataframe tbody tr th:only-of-type {\n",
              "        vertical-align: middle;\n",
              "    }\n",
              "\n",
              "    .dataframe tbody tr th {\n",
              "        vertical-align: top;\n",
              "    }\n",
              "\n",
              "    .dataframe thead th {\n",
              "        text-align: right;\n",
              "    }\n",
              "</style>\n",
              "<table border=\"1\" class=\"dataframe\">\n",
              "  <thead>\n",
              "    <tr style=\"text-align: right;\">\n",
              "      <th></th>\n",
              "      <th>quarter</th>\n",
              "      <th>down</th>\n",
              "      <th>yardsToGo</th>\n",
              "      <th>absoluteYardlineNumber</th>\n",
              "      <th>gameClock_new</th>\n",
              "    </tr>\n",
              "  </thead>\n",
              "  <tbody>\n",
              "    <tr>\n",
              "      <th>0</th>\n",
              "      <td>1</td>\n",
              "      <td>3</td>\n",
              "      <td>2</td>\n",
              "      <td>43.0</td>\n",
              "      <td>13</td>\n",
              "    </tr>\n",
              "    <tr>\n",
              "      <th>3</th>\n",
              "      <td>1</td>\n",
              "      <td>3</td>\n",
              "      <td>4</td>\n",
              "      <td>41.0</td>\n",
              "      <td>14</td>\n",
              "    </tr>\n",
              "    <tr>\n",
              "      <th>6</th>\n",
              "      <td>1</td>\n",
              "      <td>3</td>\n",
              "      <td>2</td>\n",
              "      <td>43.0</td>\n",
              "      <td>13</td>\n",
              "    </tr>\n",
              "    <tr>\n",
              "      <th>9</th>\n",
              "      <td>1</td>\n",
              "      <td>3</td>\n",
              "      <td>4</td>\n",
              "      <td>41.0</td>\n",
              "      <td>14</td>\n",
              "    </tr>\n",
              "    <tr>\n",
              "      <th>12</th>\n",
              "      <td>1</td>\n",
              "      <td>3</td>\n",
              "      <td>2</td>\n",
              "      <td>43.0</td>\n",
              "      <td>13</td>\n",
              "    </tr>\n",
              "  </tbody>\n",
              "</table>\n",
              "</div>\n",
              "      <button class=\"colab-df-convert\" onclick=\"convertToInteractive('df-ffd4fede-5211-4306-acb2-ba9d2f88c3df')\"\n",
              "              title=\"Convert this dataframe to an interactive table.\"\n",
              "              style=\"display:none;\">\n",
              "        \n",
              "  <svg xmlns=\"http://www.w3.org/2000/svg\" height=\"24px\"viewBox=\"0 0 24 24\"\n",
              "       width=\"24px\">\n",
              "    <path d=\"M0 0h24v24H0V0z\" fill=\"none\"/>\n",
              "    <path d=\"M18.56 5.44l.94 2.06.94-2.06 2.06-.94-2.06-.94-.94-2.06-.94 2.06-2.06.94zm-11 1L8.5 8.5l.94-2.06 2.06-.94-2.06-.94L8.5 2.5l-.94 2.06-2.06.94zm10 10l.94 2.06.94-2.06 2.06-.94-2.06-.94-.94-2.06-.94 2.06-2.06.94z\"/><path d=\"M17.41 7.96l-1.37-1.37c-.4-.4-.92-.59-1.43-.59-.52 0-1.04.2-1.43.59L10.3 9.45l-7.72 7.72c-.78.78-.78 2.05 0 2.83L4 21.41c.39.39.9.59 1.41.59.51 0 1.02-.2 1.41-.59l7.78-7.78 2.81-2.81c.8-.78.8-2.07 0-2.86zM5.41 20L4 18.59l7.72-7.72 1.47 1.35L5.41 20z\"/>\n",
              "  </svg>\n",
              "      </button>\n",
              "      \n",
              "  <style>\n",
              "    .colab-df-container {\n",
              "      display:flex;\n",
              "      flex-wrap:wrap;\n",
              "      gap: 12px;\n",
              "    }\n",
              "\n",
              "    .colab-df-convert {\n",
              "      background-color: #E8F0FE;\n",
              "      border: none;\n",
              "      border-radius: 50%;\n",
              "      cursor: pointer;\n",
              "      display: none;\n",
              "      fill: #1967D2;\n",
              "      height: 32px;\n",
              "      padding: 0 0 0 0;\n",
              "      width: 32px;\n",
              "    }\n",
              "\n",
              "    .colab-df-convert:hover {\n",
              "      background-color: #E2EBFA;\n",
              "      box-shadow: 0px 1px 2px rgba(60, 64, 67, 0.3), 0px 1px 3px 1px rgba(60, 64, 67, 0.15);\n",
              "      fill: #174EA6;\n",
              "    }\n",
              "\n",
              "    [theme=dark] .colab-df-convert {\n",
              "      background-color: #3B4455;\n",
              "      fill: #D2E3FC;\n",
              "    }\n",
              "\n",
              "    [theme=dark] .colab-df-convert:hover {\n",
              "      background-color: #434B5C;\n",
              "      box-shadow: 0px 1px 3px 1px rgba(0, 0, 0, 0.15);\n",
              "      filter: drop-shadow(0px 1px 2px rgba(0, 0, 0, 0.3));\n",
              "      fill: #FFFFFF;\n",
              "    }\n",
              "  </style>\n",
              "\n",
              "      <script>\n",
              "        const buttonEl =\n",
              "          document.querySelector('#df-ffd4fede-5211-4306-acb2-ba9d2f88c3df button.colab-df-convert');\n",
              "        buttonEl.style.display =\n",
              "          google.colab.kernel.accessAllowed ? 'block' : 'none';\n",
              "\n",
              "        async function convertToInteractive(key) {\n",
              "          const element = document.querySelector('#df-ffd4fede-5211-4306-acb2-ba9d2f88c3df');\n",
              "          const dataTable =\n",
              "            await google.colab.kernel.invokeFunction('convertToInteractive',\n",
              "                                                     [key], {});\n",
              "          if (!dataTable) return;\n",
              "\n",
              "          const docLinkHtml = 'Like what you see? Visit the ' +\n",
              "            '<a target=\"_blank\" href=https://colab.research.google.com/notebooks/data_table.ipynb>data table notebook</a>'\n",
              "            + ' to learn more about interactive tables.';\n",
              "          element.innerHTML = '';\n",
              "          dataTable['output_type'] = 'display_data';\n",
              "          await google.colab.output.renderOutput(dataTable, element);\n",
              "          const docLink = document.createElement('div');\n",
              "          docLink.innerHTML = docLinkHtml;\n",
              "          element.appendChild(docLink);\n",
              "        }\n",
              "      </script>\n",
              "    </div>\n",
              "  </div>\n",
              "  "
            ]
          },
          "metadata": {},
          "execution_count": 54
        }
      ]
    },
    {
      "cell_type": "code",
      "source": [
        "#split data into train and test\n",
        "#week1\n",
        "x_train,x_test,y_train,y_test = train_test_split(xInput,yInput,random_state=0,test_size=0.25)\n",
        "#scaling dataset\n",
        "scaler = MinMaxScaler()\n",
        "xTrainScaled = scaler.fit_transform(x_train)\n",
        "xTestScaled = scaler.fit_transform(x_test)\n",
        "\n",
        "print(xTestScaled)"
      ],
      "metadata": {
        "id": "_Yf1NT5FJry0",
        "colab": {
          "base_uri": "https://localhost:8080/"
        },
        "outputId": "95810d3b-9440-4b9e-990e-fafa6dbf9ccf"
      },
      "execution_count": 55,
      "outputs": [
        {
          "output_type": "stream",
          "name": "stdout",
          "text": [
            "[[0.         0.25       0.33333333 0.3877551  0.6       ]\n",
            " [0.5        0.5        0.2        0.84693878 0.06666667]\n",
            " [0.5        0.5        0.26666667 0.73469388 0.06666667]\n",
            " ...\n",
            " [0.25       0.25       0.33333333 0.37755102 0.06666667]\n",
            " [0.25       0.25       0.33333333 0.62244898 0.        ]\n",
            " [0.5        0.75       0.1        0.69387755 0.8       ]]\n"
          ]
        }
      ]
    },
    {
      "cell_type": "code",
      "source": [
        "#select model\n",
        "model = DecisionTreeClassifier()\n",
        "#train model\n",
        "model.fit(xTrainScaled,y_train)\n",
        "predictions = model.predict(xTestScaled)\n",
        "#observing performance metrics\n",
        "accuracy = accuracy_score(y_test,predictions)*100\n",
        "print(\"Accuracy of the model is {:.2f}%\".format(accuracy))\n",
        "\n",
        "print(\"-----------------\")\n",
        "print(y_test)\n",
        "print(predictions)\n",
        "print(\"-----------------\")\n",
        "y_pred = np.argmax(y_pred1, axis=1)\n",
        "\n",
        "confusion_matrix = metrics.confusion_matrix(y_test, predictions)\n",
        "\n",
        "print(confusion_matrix)"
      ],
      "metadata": {
        "colab": {
          "base_uri": "https://localhost:8080/"
        },
        "id": "e1lVe56RJuDI",
        "outputId": "ad83babf-d210-4c95-ac3d-86a2eaa30fa6"
      },
      "execution_count": 59,
      "outputs": [
        {
          "output_type": "stream",
          "name": "stdout",
          "text": [
            "Accuracy of the model is 96.62%\n",
            "-----------------\n",
            "[0 3 1 ... 1 0 0]\n",
            "[0 3 1 ... 1 0 0]\n",
            "-----------------\n",
            "[[253975  10897    317    974]\n",
            " [  9943 444747    808   1401]\n",
            " [     0   1100  17541      0]\n",
            " [     0   1545    165  59650]]\n"
          ]
        }
      ]
    },
    {
      "cell_type": "code",
      "source": [
        "from tensorflow.keras.models import Sequential\n",
        "from tensorflow.keras.layers import Dense\n",
        "from tensorflow.keras.optimizers import SGD\n",
        "from tensorflow.keras.layers import Conv2D\n",
        "from tensorflow.keras.layers import MaxPooling2D\n",
        "from tensorflow.keras.layers import Flatten\n",
        "from tensorflow.keras.utils import to_categorical\n",
        "import numpy as np\n",
        "import cv2\n",
        "from imutils import paths\n",
        "import matplotlib.pyplot as plt\n",
        "from sklearn.model_selection import train_test_split\n",
        "import tensorflow as tf\n",
        "from tensorflow.keras import layers\n",
        "from tensorflow.keras.models import Sequential\n",
        "from sklearn.metrics import classification_report\n",
        "import torch\n",
        "import torchvision\n",
        "import torchvision.transforms as transforms\n",
        "import matplotlib.pyplot as plt"
      ],
      "metadata": {
        "id": "tLpWSHMaNl9L"
      },
      "execution_count": 9,
      "outputs": []
    },
    {
      "cell_type": "code",
      "source": [
        "plays = dfPlays\n",
        "\n",
        "I_data = plays.loc[plays['passResult']==\"I\"]\n",
        "C_data = plays.loc[plays['passResult']==\"C\"]\n",
        "IN_data = plays.loc[plays['passResult']==\"IN\"]\n",
        "S_data = plays.loc[plays['passResult']==\"S\"]\n",
        "\n",
        "\n",
        "all_data = pd.concat([I_data, C_data, IN_data, S_data], axis=0)\n",
        "\n",
        "all_data = pd.concat([I_data, C_data], axis=0)\n",
        "\n",
        "data = all_data[['quarter','down','yardsToGo','absoluteYardlineNumber','gameClock_new']]\n",
        "\n",
        "data = data.dropna(axis='rows',how='all')\n",
        "\n",
        "# checking\n",
        "data.head()"
      ],
      "metadata": {
        "colab": {
          "base_uri": "https://localhost:8080/",
          "height": 206
        },
        "id": "IbUsIk2MKh4R",
        "outputId": "b59a91de-c791-4d5c-9c56-2f6e4dc3eda8"
      },
      "execution_count": 43,
      "outputs": [
        {
          "output_type": "execute_result",
          "data": {
            "text/plain": [
              "    quarter  down  yardsToGo  absoluteYardlineNumber  gameClock_new\n",
              "0         1     3          2                    43.0             13\n",
              "3         1     3          4                    41.0             14\n",
              "6         1     3          2                    43.0             13\n",
              "9         1     3          4                    41.0             14\n",
              "12        1     3          2                    43.0             13"
            ],
            "text/html": [
              "\n",
              "  <div id=\"df-adea8f6b-755f-438a-972f-28306853a2fb\">\n",
              "    <div class=\"colab-df-container\">\n",
              "      <div>\n",
              "<style scoped>\n",
              "    .dataframe tbody tr th:only-of-type {\n",
              "        vertical-align: middle;\n",
              "    }\n",
              "\n",
              "    .dataframe tbody tr th {\n",
              "        vertical-align: top;\n",
              "    }\n",
              "\n",
              "    .dataframe thead th {\n",
              "        text-align: right;\n",
              "    }\n",
              "</style>\n",
              "<table border=\"1\" class=\"dataframe\">\n",
              "  <thead>\n",
              "    <tr style=\"text-align: right;\">\n",
              "      <th></th>\n",
              "      <th>quarter</th>\n",
              "      <th>down</th>\n",
              "      <th>yardsToGo</th>\n",
              "      <th>absoluteYardlineNumber</th>\n",
              "      <th>gameClock_new</th>\n",
              "    </tr>\n",
              "  </thead>\n",
              "  <tbody>\n",
              "    <tr>\n",
              "      <th>0</th>\n",
              "      <td>1</td>\n",
              "      <td>3</td>\n",
              "      <td>2</td>\n",
              "      <td>43.0</td>\n",
              "      <td>13</td>\n",
              "    </tr>\n",
              "    <tr>\n",
              "      <th>3</th>\n",
              "      <td>1</td>\n",
              "      <td>3</td>\n",
              "      <td>4</td>\n",
              "      <td>41.0</td>\n",
              "      <td>14</td>\n",
              "    </tr>\n",
              "    <tr>\n",
              "      <th>6</th>\n",
              "      <td>1</td>\n",
              "      <td>3</td>\n",
              "      <td>2</td>\n",
              "      <td>43.0</td>\n",
              "      <td>13</td>\n",
              "    </tr>\n",
              "    <tr>\n",
              "      <th>9</th>\n",
              "      <td>1</td>\n",
              "      <td>3</td>\n",
              "      <td>4</td>\n",
              "      <td>41.0</td>\n",
              "      <td>14</td>\n",
              "    </tr>\n",
              "    <tr>\n",
              "      <th>12</th>\n",
              "      <td>1</td>\n",
              "      <td>3</td>\n",
              "      <td>2</td>\n",
              "      <td>43.0</td>\n",
              "      <td>13</td>\n",
              "    </tr>\n",
              "  </tbody>\n",
              "</table>\n",
              "</div>\n",
              "      <button class=\"colab-df-convert\" onclick=\"convertToInteractive('df-adea8f6b-755f-438a-972f-28306853a2fb')\"\n",
              "              title=\"Convert this dataframe to an interactive table.\"\n",
              "              style=\"display:none;\">\n",
              "        \n",
              "  <svg xmlns=\"http://www.w3.org/2000/svg\" height=\"24px\"viewBox=\"0 0 24 24\"\n",
              "       width=\"24px\">\n",
              "    <path d=\"M0 0h24v24H0V0z\" fill=\"none\"/>\n",
              "    <path d=\"M18.56 5.44l.94 2.06.94-2.06 2.06-.94-2.06-.94-.94-2.06-.94 2.06-2.06.94zm-11 1L8.5 8.5l.94-2.06 2.06-.94-2.06-.94L8.5 2.5l-.94 2.06-2.06.94zm10 10l.94 2.06.94-2.06 2.06-.94-2.06-.94-.94-2.06-.94 2.06-2.06.94z\"/><path d=\"M17.41 7.96l-1.37-1.37c-.4-.4-.92-.59-1.43-.59-.52 0-1.04.2-1.43.59L10.3 9.45l-7.72 7.72c-.78.78-.78 2.05 0 2.83L4 21.41c.39.39.9.59 1.41.59.51 0 1.02-.2 1.41-.59l7.78-7.78 2.81-2.81c.8-.78.8-2.07 0-2.86zM5.41 20L4 18.59l7.72-7.72 1.47 1.35L5.41 20z\"/>\n",
              "  </svg>\n",
              "      </button>\n",
              "      \n",
              "  <style>\n",
              "    .colab-df-container {\n",
              "      display:flex;\n",
              "      flex-wrap:wrap;\n",
              "      gap: 12px;\n",
              "    }\n",
              "\n",
              "    .colab-df-convert {\n",
              "      background-color: #E8F0FE;\n",
              "      border: none;\n",
              "      border-radius: 50%;\n",
              "      cursor: pointer;\n",
              "      display: none;\n",
              "      fill: #1967D2;\n",
              "      height: 32px;\n",
              "      padding: 0 0 0 0;\n",
              "      width: 32px;\n",
              "    }\n",
              "\n",
              "    .colab-df-convert:hover {\n",
              "      background-color: #E2EBFA;\n",
              "      box-shadow: 0px 1px 2px rgba(60, 64, 67, 0.3), 0px 1px 3px 1px rgba(60, 64, 67, 0.15);\n",
              "      fill: #174EA6;\n",
              "    }\n",
              "\n",
              "    [theme=dark] .colab-df-convert {\n",
              "      background-color: #3B4455;\n",
              "      fill: #D2E3FC;\n",
              "    }\n",
              "\n",
              "    [theme=dark] .colab-df-convert:hover {\n",
              "      background-color: #434B5C;\n",
              "      box-shadow: 0px 1px 3px 1px rgba(0, 0, 0, 0.15);\n",
              "      filter: drop-shadow(0px 1px 2px rgba(0, 0, 0, 0.3));\n",
              "      fill: #FFFFFF;\n",
              "    }\n",
              "  </style>\n",
              "\n",
              "      <script>\n",
              "        const buttonEl =\n",
              "          document.querySelector('#df-adea8f6b-755f-438a-972f-28306853a2fb button.colab-df-convert');\n",
              "        buttonEl.style.display =\n",
              "          google.colab.kernel.accessAllowed ? 'block' : 'none';\n",
              "\n",
              "        async function convertToInteractive(key) {\n",
              "          const element = document.querySelector('#df-adea8f6b-755f-438a-972f-28306853a2fb');\n",
              "          const dataTable =\n",
              "            await google.colab.kernel.invokeFunction('convertToInteractive',\n",
              "                                                     [key], {});\n",
              "          if (!dataTable) return;\n",
              "\n",
              "          const docLinkHtml = 'Like what you see? Visit the ' +\n",
              "            '<a target=\"_blank\" href=https://colab.research.google.com/notebooks/data_table.ipynb>data table notebook</a>'\n",
              "            + ' to learn more about interactive tables.';\n",
              "          element.innerHTML = '';\n",
              "          dataTable['output_type'] = 'display_data';\n",
              "          await google.colab.output.renderOutput(dataTable, element);\n",
              "          const docLink = document.createElement('div');\n",
              "          docLink.innerHTML = docLinkHtml;\n",
              "          element.appendChild(docLink);\n",
              "        }\n",
              "      </script>\n",
              "    </div>\n",
              "  </div>\n",
              "  "
            ]
          },
          "metadata": {},
          "execution_count": 43
        }
      ]
    },
    {
      "cell_type": "code",
      "source": [
        "features = np.array(data)\n",
        "\n",
        "# pass outcome\n",
        "labels = np.array([0]*len(I_data)+[1]*len(C_data)+[2]*len(IN_data)+[3]*len(S_data))\n",
        "labels = np.array([0]*len(I_data)+[1]*len(C_data))\n",
        "print(\"shape of features:\", features.shape)\n",
        "print(\"shape of labels:\", labels.shape)\n",
        "print(\"length of features:\", len(features))\n",
        "print(\"length of labels:\", len(labels))"
      ],
      "metadata": {
        "colab": {
          "base_uri": "https://localhost:8080/"
        },
        "id": "amx2br0ePZQd",
        "outputId": "d8c6ce30-18c7-494b-abe0-c20df42cab9e"
      },
      "execution_count": 44,
      "outputs": [
        {
          "output_type": "stream",
          "name": "stdout",
          "text": [
            "shape of features: (2893009, 5)\n",
            "shape of labels: (2893009,)\n",
            "length of features: 2893009\n",
            "length of labels: 2893009\n"
          ]
        }
      ]
    },
    {
      "cell_type": "code",
      "source": [
        "import numpy as np\n",
        "from sklearn.model_selection import train_test_split\n",
        "from sklearn.model_selection import KFold\n",
        "from sklearn.model_selection import cross_val_score\n",
        "# Separate the test data\n",
        "x_train, x_test, y_train, y_test = train_test_split(features, labels, test_size=0.3, random_state=42)\n",
        "\n",
        "norm_y_test = y_test\n",
        "\n",
        "y_train = to_categorical(y_train)\n",
        "y_test = to_categorical(y_test)"
      ],
      "metadata": {
        "id": "AfS9OyT0PbZA"
      },
      "execution_count": 45,
      "outputs": []
    },
    {
      "cell_type": "code",
      "source": [
        "model = Sequential()\n",
        "model.add(Dense(128, activation='relu', input_dim=features.shape[1]))\n",
        "model.add(Dense(2, activation='softmax'))\n",
        "model.compile(optimizer=tf.keras.optimizers.Adam(learning_rate=0.001), loss='binary_crossentropy', metrics=['accuracy'])\n",
        "history = model.fit(x_train, y_train, epochs=10)"
      ],
      "metadata": {
        "colab": {
          "base_uri": "https://localhost:8080/"
        },
        "id": "ex7oMpVTOENr",
        "outputId": "5c6491c9-71d4-4e37-96b8-39a069d4fa95"
      },
      "execution_count": 46,
      "outputs": [
        {
          "output_type": "stream",
          "name": "stdout",
          "text": [
            "Epoch 1/10\n",
            "63285/63285 [==============================] - 105s 2ms/step - loss: 0.6224 - accuracy: 0.6569\n",
            "Epoch 2/10\n",
            "63285/63285 [==============================] - 104s 2ms/step - loss: 0.5853 - accuracy: 0.6797\n",
            "Epoch 3/10\n",
            "63285/63285 [==============================] - 104s 2ms/step - loss: 0.5720 - accuracy: 0.6906\n",
            "Epoch 4/10\n",
            "63285/63285 [==============================] - 104s 2ms/step - loss: 0.5655 - accuracy: 0.6949\n",
            "Epoch 5/10\n",
            "63285/63285 [==============================] - 107s 2ms/step - loss: 0.5618 - accuracy: 0.6977\n",
            "Epoch 6/10\n",
            "63285/63285 [==============================] - 107s 2ms/step - loss: 0.5600 - accuracy: 0.6989\n",
            "Epoch 7/10\n",
            "63285/63285 [==============================] - 112s 2ms/step - loss: 0.5591 - accuracy: 0.7002\n",
            "Epoch 8/10\n",
            "63285/63285 [==============================] - 110s 2ms/step - loss: 0.5581 - accuracy: 0.7005\n",
            "Epoch 9/10\n",
            "63285/63285 [==============================] - 112s 2ms/step - loss: 0.5574 - accuracy: 0.7015\n",
            "Epoch 10/10\n",
            "63285/63285 [==============================] - 117s 2ms/step - loss: 0.5563 - accuracy: 0.7027\n"
          ]
        }
      ]
    },
    {
      "cell_type": "code",
      "source": [
        "loss, accuracy = model.evaluate(x_test, y_test)"
      ],
      "metadata": {
        "colab": {
          "base_uri": "https://localhost:8080/"
        },
        "id": "aE09yau2Pkga",
        "outputId": "409d6b59-ee87-452d-af5f-ea64600b9add"
      },
      "execution_count": 47,
      "outputs": [
        {
          "output_type": "stream",
          "name": "stdout",
          "text": [
            "27122/27122 [==============================] - 45s 2ms/step - loss: 0.5531 - accuracy: 0.7061\n"
          ]
        }
      ]
    },
    {
      "cell_type": "code",
      "source": [
        "from sklearn.metrics import f1_score, precision_score, recall_score\n",
        "from sklearn import metrics\n",
        "y_pred1 = model.predict(x_test)\n"
      ],
      "metadata": {
        "colab": {
          "base_uri": "https://localhost:8080/"
        },
        "id": "9GcBbxIHQEQo",
        "outputId": "bd790deb-7f47-42b3-a9e3-0fa56e938c4e"
      },
      "execution_count": 48,
      "outputs": [
        {
          "output_type": "stream",
          "name": "stdout",
          "text": [
            "27122/27122 [==============================] - 48s 2ms/step\n"
          ]
        }
      ]
    },
    {
      "cell_type": "code",
      "source": [
        "y_pred = np.argmax(y_pred1, axis=1)\n",
        "\n",
        "print(\"Predictions:\")\n",
        "print(y_pred)\n",
        "print(\"Actual:\")\n",
        "print(norm_y_test)\n",
        "print(\"\")\n",
        "\n",
        "confusion_matrix = metrics.confusion_matrix(norm_y_test, y_pred)\n",
        "\n",
        "print(confusion_matrix)"
      ],
      "metadata": {
        "colab": {
          "base_uri": "https://localhost:8080/"
        },
        "id": "aXBmZYkI3ttu",
        "outputId": "57dd769c-8b0f-4a7c-aefa-1ac8e3fe3301"
      },
      "execution_count": 49,
      "outputs": [
        {
          "output_type": "stream",
          "name": "stdout",
          "text": [
            "Predictions:\n",
            "[1 1 1 ... 1 1 1]\n",
            "Actual:\n",
            "[0 1 1 ... 1 0 0]\n",
            "\n",
            "[[119886 199722]\n",
            " [ 55322 492973]]\n"
          ]
        }
      ]
    },
    {
      "cell_type": "code",
      "source": [
        "import plotly.graph_objects as go\n",
        "import plotly.express as px\n",
        "\n",
        "fig = go.Figure()\n",
        "\n",
        "data = history.history['accuracy']\n",
        "\n",
        "fig.add_trace(go.Scatter(\n",
        "    x=np.linspace(1,10,10),\n",
        "    y=data,\n",
        "    name=\"Accuracy\",\n",
        "    line=dict(color='black'),\n",
        "    mode='lines',   \n",
        "    #showlegend = True\n",
        "))\n",
        "\n",
        "fig.update_layout(\n",
        "    width=600, \n",
        "    height=400,\n",
        "    #xaxis_range=[],\n",
        "    #yaxis_range=[],\n",
        "    plot_bgcolor='white',\n",
        "    xaxis_title=\"Epochs\",\n",
        "    yaxis_title=\"Accuracy\",\n",
        "    font=dict(\n",
        "    family=\"Didone\",\n",
        "    size=18,  # Set the font size here\n",
        "    color=\"Black\",\n",
        "    )\n",
        ")\n",
        "\n",
        "fig.update_xaxes(\n",
        "    mirror=True,\n",
        "    ticks='outside',\n",
        "    showline=True,\n",
        "    linecolor='black',\n",
        "    gridcolor='lightgrey'\n",
        ")\n",
        "fig.update_yaxes(\n",
        "    mirror=True,\n",
        "    ticks='outside',\n",
        "    showline=True,\n",
        "    linecolor='black',\n",
        "    gridcolor='lightgrey',\n",
        ")\n",
        "\n",
        "fig.update_layout(legend=dict(yanchor=\"bottom\", y=0.7, xanchor=\"left\", x=1.05))\n",
        "\n",
        "fig.show()\n",
        "\n",
        "#fig.write_image(\"/content/nn_acc.pdf\")"
      ],
      "metadata": {
        "id": "0ueeIDkmQHVC"
      },
      "execution_count": null,
      "outputs": []
    }
  ]
}