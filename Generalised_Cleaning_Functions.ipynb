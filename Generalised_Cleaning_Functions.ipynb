{
  "cells": [
    {
      "cell_type": "code",
      "execution_count": null,
      "metadata": {
        "id": "e5ykrSMdQm2E"
      },
      "outputs": [],
      "source": []
    },
    {
      "cell_type": "markdown",
      "metadata": {
        "id": "13ZrmP5KQn_e"
      },
      "source": [
        "**Generalised cleaning functions- just the methods so will not run in this notebook!!!**"
      ]
    },
    {
      "cell_type": "markdown",
      "metadata": {
        "id": "H_eAghRhQu5c"
      },
      "source": [
        "this function changes abbreviations to full names"
      ]
    },
    {
      "cell_type": "code",
      "execution_count": 1,
      "metadata": {
        "id": "dS3hLXu6QvCQ"
      },
      "outputs": [],
      "source": [
        "def abbrvs(csv,column,abbrv,fullname):\n",
        "  # new names\n",
        "  type_name = []\n",
        "  # looping through\n",
        "  for i in csv[column]:\n",
        "    # filtering out NaN values\n",
        "    if i in abbrv:\n",
        "      index = abbrv.index(i)\n",
        "      type_name.append(fullname[index])\n",
        "    else:\n",
        "      type_name.append(i)\n",
        "  return type_name"
      ]
    },
    {
      "cell_type": "markdown",
      "metadata": {
        "id": "gIlqgfxSQznB"
      },
      "source": [
        "how to run"
      ]
    },
    {
      "cell_type": "code",
      "execution_count": null,
      "metadata": {
        "id": "9_B10s8VQzAz"
      },
      "outputs": [],
      "source": [
        "# testing function\n",
        "# inputs\n",
        "csv = scouting\n",
        "column = \"kickType\"\n",
        "kick_types = ['D','F','K','O','P','Q','S','B','N','R','A']\n",
        "kick_type_names = ['Deep','Flat','Free','Obvious','Pooch','Squib','Surprise','Deep','Normal','Rugby','Aussie']\n",
        "# calling function\n",
        "kick_type_fullnames = abbrvs(csv,column,kick_types,kick_type_names)\n",
        "# viewing\n",
        "kick_type_fullnames[0:5]"
      ]
    },
    {
      "cell_type": "markdown",
      "metadata": {
        "id": "xJD3Ed8URNK0"
      },
      "source": [
        "this function separates team and number values, need to try get rid of [] though"
      ]
    },
    {
      "cell_type": "code",
      "execution_count": null,
      "metadata": {
        "id": "tqPt3omWRNUN"
      },
      "outputs": [],
      "source": [
        "def team_number_splitting(csv,column,symbol):\n",
        "  # splitting to team and number\n",
        "  split_team = []\n",
        "  split_numbers = []\n",
        "  # splitting the data\n",
        "  split = csv[column].str.split(symbol, expand = True)\n",
        "  # loop for each\n",
        "  for i in range(0,len(csv)):\n",
        "    # specific data\n",
        "    split.iloc[i]\n",
        "    # number of NaN\n",
        "    nan_num = split.iloc[i].isna().sum()\n",
        "    if 5-nan_num == 0:\n",
        "      split_team.append(csv[column][i])\n",
        "      split_numbers.append(csv[column][i])\n",
        "    else:\n",
        "      info = []\n",
        "      for j in range(0,(5-nan_num)):\n",
        "        split_i = split[j][i].split(\" \")\n",
        "        info.append(split_i)\n",
        "      # team name\n",
        "      split_team.append(info[0][0])\n",
        "      # numbers\n",
        "      nums = []\n",
        "      for k in range(0,5-nan_num):\n",
        "        num = info[k][1]\n",
        "        nums.append(num)\n",
        "      split_numbers.append(nums)\n",
        "  return split_team,split_numbers"
      ]
    },
    {
      "cell_type": "markdown",
      "metadata": {
        "id": "ka_RFnKcRNhk"
      },
      "source": [
        "how to run"
      ]
    },
    {
      "cell_type": "code",
      "execution_count": null,
      "metadata": {
        "id": "EjuRo9ZURNpj"
      },
      "outputs": [],
      "source": [
        "# testing\n",
        "# inputs\n",
        "csv = scouting\n",
        "column = \"missedTackler\"\n",
        "symbol = \"; \"\n",
        "# calling function\n",
        "missed_tackler_team, missed_tackler_numbers = team_number_splitting(csv,column,symbol)\n",
        "# looking at data\n",
        "print(missed_tackler_team[0:5])\n",
        "print(missed_tackler_numbers[0:5])"
      ]
    },
    {
      "cell_type": "markdown",
      "metadata": {
        "id": "DvoF9mI7RgvS"
      },
      "source": [
        "this function splits numbers such as dates of play formation"
      ]
    },
    {
      "cell_type": "code",
      "execution_count": null,
      "metadata": {
        "id": "am_VqCeMRhTs"
      },
      "outputs": [],
      "source": [
        "def number_splitting(csv,column,symbol,n):\n",
        "  split = csv[column].str.split(symbol, n = n, expand = True)\n",
        "  return split"
      ]
    },
    {
      "cell_type": "markdown",
      "metadata": {
        "id": "lGYd7oSjRhev"
      },
      "source": [
        "how to run"
      ]
    },
    {
      "cell_type": "code",
      "execution_count": null,
      "metadata": {
        "id": "lEl4L7_nRhnU"
      },
      "outputs": [],
      "source": [
        "# testing\n",
        "# inputs\n",
        "csv = scouting\n",
        "column = \"kickoffReturnFormation\"\n",
        "symbol = \"-\"\n",
        "n = 2\n",
        "# calling function\n",
        "formation_split = number_splitting(csv,column,symbol,n)\n",
        "# looking at data\n",
        "formation_split.head()"
      ]
    },
    {
      "cell_type": "markdown",
      "metadata": {
        "id": "lMKJtdDmTyX8"
      },
      "source": [
        "pd.to_numeric function"
      ]
    },
    {
      "cell_type": "code",
      "execution_count": null,
      "metadata": {
        "id": "9NYNlwPFT2uL"
      },
      "outputs": [],
      "source": [
        "def pd_to_num(csv,split,column_names):\n",
        "  split.columns = column_names\n",
        "  # adding columns\n",
        "  for name in column_names:\n",
        "    csv[name] = pd.to_numeric(split[name])\n",
        "  return"
      ]
    },
    {
      "cell_type": "markdown",
      "metadata": {
        "id": "e27AtHG-T22x"
      },
      "source": [
        "how to run"
      ]
    },
    {
      "cell_type": "code",
      "execution_count": null,
      "metadata": {
        "id": "m1zjOSuOT1N9"
      },
      "outputs": [],
      "source": [
        "column_names = ['Front','Mid','Back']\n",
        "csv = scouting\n",
        "column = \"kickoffReturnFormation\"\n",
        "symbol = \"-\"\n",
        "n = 2\n",
        "# calling function\n",
        "formation_split = number_splitting(csv,column,symbol,n)\n",
        "# calling function\n",
        "pd_to_num(csv,formation_split,column_names)\n",
        "# viewing \n",
        "scouting.head()"
      ]
    },
    {
      "cell_type": "markdown",
      "metadata": {
        "id": "cHhRxCamSCCh"
      },
      "source": [
        "height cleaning"
      ]
    },
    {
      "cell_type": "code",
      "execution_count": null,
      "metadata": {
        "id": "l388ZQ1gR6uD"
      },
      "outputs": [],
      "source": [
        "# splitting the heights\n",
        "height_split = players[\"height\"].str.split(\"-\", n = 1, expand = True)\n",
        "# new column names\n",
        "height_split.columns = ['Feet', 'Inch']\n",
        "# adding new columns\n",
        "players[\"height_feet\"] = pd.to_numeric(height_split[\"Feet\"])\n",
        "players[\"height_inch\"] = pd.to_numeric(height_split[\"Inch\"])\n",
        "# still have 73 feet\n",
        "# getting rid of NaN values\n",
        "players[\"height_inch\"] = players[\"height_inch\"].fillna(0)\n",
        "# replacing heights that did not have '-' at start\n",
        "for i in players[\"height_feet\"]:\n",
        "    if i > 7:\n",
        "        j = 0.0833333 * i\n",
        "        players[\"height_feet\"].replace({i : j}, inplace=True)        \n",
        "# inches to numerical value\n",
        "players[\"height_inch\"] = 0.0833333 * players[\"height_inch\"]\n",
        "# adding feet and inches to get one value\n",
        "height_numerical = players[\"height_feet\"] + players[\"height_inch\"]\n",
        "# adding new numerical value column\n",
        "players[\"height_numerical\"] = pd.to_numeric(height_numerical)\n",
        "# new look at data\n",
        "players[['height','height_numerical']].head()"
      ]
    },
    {
      "cell_type": "markdown",
      "metadata": {
        "id": "pdHJ68FCR65P"
      },
      "source": [
        "birth date cleaning"
      ]
    },
    {
      "cell_type": "code",
      "execution_count": null,
      "metadata": {
        "id": "ogQmspyLR8Us"
      },
      "outputs": [],
      "source": [
        "# splitting the numbers\n",
        "players['birth_year'] = pd.DatetimeIndex(players['birthDate']).year\n",
        "# new look at data\n",
        "players[['birthDate','birth_year']].head()"
      ]
    }
  ],
  "metadata": {
    "colab": {
      "provenance": []
    },
    "kernelspec": {
      "display_name": "Python 3",
      "name": "python3"
    },
    "language_info": {
      "codemirror_mode": {
        "name": "ipython",
        "version": 3
      },
      "file_extension": ".py",
      "mimetype": "text/x-python",
      "name": "python",
      "nbconvert_exporter": "python",
      "pygments_lexer": "ipython3",
      "version": "3.9.12"
    }
  },
  "nbformat": 4,
  "nbformat_minor": 0
}
